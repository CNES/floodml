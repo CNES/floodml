{
 "cells": [
  {
   "cell_type": "markdown",
   "metadata": {},
   "source": [
    "#  Flood inference demonstrator\n",
    "This notebook is here to show the different steps to follow to make an inference with the FloodML Random Forest algorithm. We focused on the Sentinel-1 inferences, as they represent the immense majority of inferences that have been done and studied in the frame of the FloodML project. Fourinferences can be launched in the frame of the demonstrator:\n",
    "\n",
    "  * EMSR 267 in Lituania, tile 34UEG, date 20180202, orbit DES_051\n",
    "  * EMSR 271 in Greece, tile 34SEJ, date 20180228, orbit DES_080\n",
    "  * EMSR 279 in Spain, tile 30TXM, date 20180413, orbit ASC_030\n",
    "  * EMSR 352 in Iran, tile 39RTQ, date 20190408, orbit DES_108\n",
    "  \n",
    "For the purpose of this notebook the slope files derived from MERIT DEM have already been prepared. The inference will be created in the \"HomemadeINF\" directory of the demonstrator, to seperate them from the inferences already put in the \"INFERENCES directory\", with purpose only for diplay.\n",
    "\n",
    "To launch one of the inferences from this notebook, please fill properly the variables in the next cell.\n",
    "\n",
    "BEWARE: the static display might not work if you are not on a Batch full node 24-cores and 120Gb Kernel. The inference in this frame take between 30min and an hour."
   ]
  },
  {
   "cell_type": "markdown",
   "metadata": {},
   "source": [
    "## Calculation parameters"
   ]
  },
  {
   "cell_type": "code",
   "execution_count": 5,
   "metadata": {},
   "outputs": [
    {
     "name": "stdout",
     "output_type": "stream",
     "text": [
      "Tile ref:  39RTQ\n",
      "Date :  20190408\n",
      "Orbit :  DES_108\n"
     ]
    }
   ],
   "source": [
    "\n",
    "tile = \"39RTQ\" # String containing the Sentinel-2 tile number \n",
    "date = \"20190408\" # String of the chosen date\n",
    "orbit = \"DES_108\" # String of the chosen orbit\n",
    "###thresh = 60 # int/float for the thresholding of water occurrences in GSWO product. 60 is set as default \n",
    "\n",
    "print('Tile ref: ', tile)\n",
    "print('Date : ', date)\n",
    "print('Orbit : ', orbit)\n",
    "\n",
    "# Configuration file\n",
    "pconf = 'config.json' "
   ]
  },
  {
   "cell_type": "markdown",
   "metadata": {},
   "source": [
    "## Loading of the needed libraries and the configuration file"
   ]
  },
  {
   "cell_type": "code",
   "execution_count": 8,
   "metadata": {},
   "outputs": [
    {
     "ename": "ModuleNotFoundError",
     "evalue": "No module named 'miscellaneous'",
     "output_type": "error",
     "traceback": [
      "\u001b[0;31m---------------------------------------------------------------------------\u001b[0m",
      "\u001b[0;31mModuleNotFoundError\u001b[0m                       Traceback (most recent call last)",
      "\u001b[0;32m<ipython-input-8-b69e396b4267>\u001b[0m in \u001b[0;36m<module>\u001b[0;34m\u001b[0m\n\u001b[1;32m      5\u001b[0m \u001b[0;32mimport\u001b[0m \u001b[0mnumpy\u001b[0m \u001b[0;32mas\u001b[0m \u001b[0mnp\u001b[0m\u001b[0;34m\u001b[0m\u001b[0;34m\u001b[0m\u001b[0m\n\u001b[1;32m      6\u001b[0m \u001b[0;32mfrom\u001b[0m \u001b[0mtqdm\u001b[0m \u001b[0;32mimport\u001b[0m \u001b[0mtqdm\u001b[0m\u001b[0;34m\u001b[0m\u001b[0;34m\u001b[0m\u001b[0m\n\u001b[0;32m----> 7\u001b[0;31m \u001b[0;32mimport\u001b[0m \u001b[0mDemo_tools\u001b[0m \u001b[0;32mas\u001b[0m \u001b[0mdtool\u001b[0m\u001b[0;34m\u001b[0m\u001b[0;34m\u001b[0m\u001b[0m\n\u001b[0m\u001b[1;32m      8\u001b[0m \u001b[0;34m\u001b[0m\u001b[0m\n\u001b[1;32m      9\u001b[0m \u001b[0mconf\u001b[0m \u001b[0;34m=\u001b[0m \u001b[0mdtool\u001b[0m\u001b[0;34m.\u001b[0m\u001b[0mapplyconf\u001b[0m\u001b[0;34m(\u001b[0m\u001b[0mpconf\u001b[0m\u001b[0;34m)\u001b[0m\u001b[0;34m\u001b[0m\u001b[0;34m\u001b[0m\u001b[0m\n",
      "\u001b[0;32m~/Downloads/phase-2-cls/Demonstrator/Demo_tools.py\u001b[0m in \u001b[0;36m<module>\u001b[0;34m\u001b[0m\n\u001b[1;32m     28\u001b[0m \u001b[0;34m\u001b[0m\u001b[0m\n\u001b[1;32m     29\u001b[0m \u001b[0msys\u001b[0m\u001b[0;34m.\u001b[0m\u001b[0mpath\u001b[0m\u001b[0;34m.\u001b[0m\u001b[0mappend\u001b[0m\u001b[0;34m(\u001b[0m\u001b[0;34m'/work/scratch/fatrasc/Bib_annexes/pykic/'\u001b[0m\u001b[0;34m)\u001b[0m\u001b[0;34m\u001b[0m\u001b[0;34m\u001b[0m\u001b[0m\n\u001b[0;32m---> 30\u001b[0;31m \u001b[0;32mimport\u001b[0m \u001b[0mmiscellaneous\u001b[0m\u001b[0;34m.\u001b[0m\u001b[0mmiscdate\u001b[0m \u001b[0;32mas\u001b[0m \u001b[0mmmd\u001b[0m\u001b[0;34m\u001b[0m\u001b[0;34m\u001b[0m\u001b[0m\n\u001b[0m\u001b[1;32m     31\u001b[0m \u001b[0;32mimport\u001b[0m \u001b[0mraster\u001b[0m\u001b[0;34m.\u001b[0m\u001b[0mpykic_gdal\u001b[0m \u001b[0;32mas\u001b[0m \u001b[0mrpg\u001b[0m\u001b[0;34m\u001b[0m\u001b[0;34m\u001b[0m\u001b[0m\n\u001b[1;32m     32\u001b[0m \u001b[0;34m\u001b[0m\u001b[0m\n",
      "\u001b[0;31mModuleNotFoundError\u001b[0m: No module named 'miscellaneous'"
     ]
    }
   ],
   "source": [
    "import os, glob, sys, logging, argparse, shutil, gc, joblib\n",
    "from distutils.dir_util import copy_tree\n",
    "from osgeo import ogr\n",
    "import lxml.etree as ET\n",
    "import numpy as np\n",
    "from tqdm import tqdm\n",
    "import Demo_tools as dtool\n",
    "\n",
    "conf = dtool.applyconf(pconf)\n",
    "\n",
    "root_dir = conf['root_dir']\n",
    "sys.path.append(conf['pykic'])\n",
    "print(sys.path)\n",
    "\n",
    "import raster.pykic_gdal as rpg\n"
   ]
  },
  {
   "cell_type": "markdown",
   "metadata": {},
   "source": [
    "##  Sentinel-1 stack creation\n",
    "Joins S1 VV and VH images along with MERIT-derived slopes in a stack for the inference."
   ]
  },
  {
   "cell_type": "code",
   "execution_count": 3,
   "metadata": {},
   "outputs": [
    {
     "name": "stdout",
     "output_type": "stream",
     "text": [
      "\tFile on which inference will be done:  /work/OT/floodml/data/deliveries/phase-2-cls/Demonstrateur/EMSR352/39RTQ/s1b_39RTQ_vv_DES_108_20190408txxxxxx.tif\n"
     ]
    }
   ],
   "source": [
    "#Loading and normalizing the slope file\n",
    "slp_file = glob.glob(os.path.join(root_dir, 'Ancillary', 'MERIT_SLP', tile+'_SLP.tif'))[0]\n",
    "slp, proj, dim, tr = rpg.gdal2array(slp_file)\n",
    "slp_norm = slp / 90  # Normalization\n",
    "slp_norm[ (slp_norm <= 0)] = 0.01 # To avoid planar overdetection (slp=0 and nodata values set to 0.01)\n",
    "\n",
    "# Loading the Sentinel-1 files\n",
    "filename = glob.glob(os.path.join(root_dir, '**/**', 's1*'+tile+'*vv*'+orbit+'*.tif'), recursive=True)[0]  \n",
    "print(\"\\tFile on which inference will be done: \", filename)\n",
    "\n",
    "S1VV, proj, dim, tr = rpg.gdal2array(filename)\n",
    "S1VH, proj, dim, tr = rpg.gdal2array(filename.replace('vv', 'vh'))\n",
    "\n",
    "S1VV = np.float32(S1VV)\n",
    "S1VH = np.float32(S1VH)\n",
    "S1VV[S1VV == 0] = np.nan\n",
    "S1VH[S1VH == 0] = np.nan\n",
    "\n",
    "Vstack_S1 = np.hstack((np.reshape(S1VV, (-1, 1)), np.reshape(S1VH, (-1, 1))))\n",
    "Vstack_S1 = np.hstack((Vstack_S1, np.reshape(slp_norm, (-1, 1))))\n"
   ]
  },
  {
   "cell_type": "markdown",
   "metadata": {},
   "source": [
    "##  Inference with Random Forest"
   ]
  },
  {
   "cell_type": "code",
   "execution_count": 4,
   "metadata": {},
   "outputs": [
    {
     "name": "stdout",
     "output_type": "stream",
     "text": [
      "\tyb 120560285 3\n",
      "\tLoading RDF model...\n",
      "\tInference beginning\n",
      "\tInference done.\n"
     ]
    }
   ],
   "source": [
    "DBpath = os.path.join(root_dir, 'DB_RDF_S1.sav')\n",
    "\n",
    "# Remove NaN & predict\n",
    "vec_ok = np.ravel(np.flatnonzero(np.sum(np.isnan(Vstack_S1) * 1, axis=1) == 0))\n",
    "yb = np.array([])\n",
    "yb = Vstack_S1[vec_ok]\n",
    "\n",
    "# RANDOM FOREST\n",
    "print('Loading RDF model...')\n",
    "rdf = joblib.load(DBpath)  # path to be changed\n",
    "\n",
    "print(\"Inference beginning\")\n",
    "rdf_pred = rdf.predict(yb)\n",
    "\n",
    "print('Inference done')\n"
   ]
  },
  {
   "cell_type": "markdown",
   "metadata": {},
   "source": [
    "##  Inference exportation"
   ]
  },
  {
   "cell_type": "code",
   "execution_count": 6,
   "metadata": {},
   "outputs": [],
   "source": [
    "# Output image size determiantion\n",
    "MAT, proj, dim, tr = rpg.gdal2array(filename)\n",
    "exout = np.zeros((dim[1], dim[0]), dtype=np.uint8)\n",
    "exout[np.unravel_index(vec_ok, (dim[1], dim[0]))] = rdf_pred\n",
    "\n",
    "# Output export\n",
    "nexout = os.path.join(root_dir, 'HomemadeINF', 'Inference_RDF_S1_T'+tile+'_'+date+'_'+orbit+'_0_01nan.tif')\n",
    "rpg.array2tif(nexout, exout, proj, dim, tr)"
   ]
  },
  {
   "cell_type": "code",
   "execution_count": null,
   "metadata": {},
   "outputs": [],
   "source": []
  }
 ],
 "metadata": {
  "kernelspec": {
   "display_name": "Python 3",
   "language": "python",
   "name": "python3"
  },
  "language_info": {
   "codemirror_mode": {
    "name": "ipython",
    "version": 3
   },
   "file_extension": ".py",
   "mimetype": "text/x-python",
   "name": "python",
   "nbconvert_exporter": "python",
   "pygments_lexer": "ipython3",
   "version": "3.8.6"
  }
 },
 "nbformat": 4,
 "nbformat_minor": 4
}
